{
 "cells": [
  {
   "cell_type": "code",
   "execution_count": null,
   "id": "a7daf334-395b-400c-a174-de3423f63e49",
   "metadata": {},
   "outputs": [
    {
     "name": "stdout",
     "output_type": "stream",
     "text": [
      "Successfully scraped content from https://www.washington.edu/\n",
      "Successfully scraped content from https://www.stanford.edu/\n",
      "Successfully scraped content from https://und.edu/\n"
     ]
    },
    {
     "name": "stdin",
     "output_type": "stream",
     "text": [
      "Enter your query (or type 'exit' to quit):  university\n"
     ]
    },
    {
     "name": "stdout",
     "output_type": "stream",
     "text": [
      "\n",
      "Results found:\n",
      "\n",
      "From https://www.washington.edu/:\n",
      "UW Homepage &lt;iframe src=\"https://www.googletagmanager.com/ns.html?id=GTM-KQ6QQBT\" height=\"0\" width=\"0\" style=\"display:none;visibility:hidden\" aria-hidden=\"true\"&gt;&lt;/iframe&gt; Skip to main content MyUW Calendar Directories Libraries UW Medicine Maps UW News Helpful Links Computing/IT Workday HCM Husky Card UW Bothell UW Tacoma UW Facebook UW Twitter University of Washington University of Washington Students Parents Faculty & Staff Alumni Quick Links About About the UW Diversity Global Impact Innovation Leadership Maps Population Health Sustainability Visit Academics Academic calendar Academic departments Colleges and schools Course descriptions Registration Student guide Time schedule Apply Admissions Financial Aid Continuing education Majors Student housing Transfer students Tuition and fees Undocumented students UW Online News & Events UW News Featured stories Arts UW Calendar UW Magazine Husky sports Newsletter Research Research at the UW Office of Research Research Lifecycle...\n",
      "\n",
      "From https://www.stanford.edu/:\n",
      "Stanford University Skip to content Stanford University Information for: Students Faculty & Staff Families Visitors Alumni Search Menu News Events Academics Research Health Care Campus Life Admission About Search term Search Stanford: Web People Search Web Other ways to search: Map Profiles Stanford Explore Stanford Main Content A Societal Mission Stanford was founded almost 150 years ago on a bedrock of societal purpose. Our mission is to contribute to the world by educating students for lives of leadership and contribution with integrity; advancing fundamental knowledge and cultivating creativity; leading in pioneering research for effective clinical therapies; and accelerating solutions and amplifying their impact. More about Stanford Campus News Stories about people, research, and innovation across the Farm Science & Engineering New device produces critical fertilizer ingredient from thin air Earth & Climate AI predicts Earth’s peak warming Science & Engineering Scientists call for...\n",
      "\n",
      "From https://und.edu/:\n",
      "UND | Grand Forks, ND | University of North Dakota Skip to main content Open Menu Close Menu University of North Dakota Open Search Close Search University of North Dakota Info For Admitted Students Current Students Families of Current Students Faculty & Staff Alumni Logins Email Blackboard Campus Connection Employee Self-Service Hawk Central Degree Map Zoom Directory Search Search Submit Academics Admissions Student Life Research Athletics Majors & Programs About Menu University of North Dakota Academics Admissions Student Life Research Athletics Majors & Programs About Request Info Visit Apply Search Search Submit Request Info Visit Apply Search Submit Learn Through Action Lead Your Own Way University of North Dakota Leaders can come from anywhere, but they go to UND. Apply Request Info Visit Majors & Programs The University of North Dakota is the state's oldest and largest university. We offer\n",
      "                           225+ highly accredited on-campus and online degrees. Criminal J...\n"
     ]
    },
    {
     "name": "stdin",
     "output_type": "stream",
     "text": [
      "Enter your query (or type 'exit' to quit):  'exit'\n"
     ]
    },
    {
     "name": "stdout",
     "output_type": "stream",
     "text": [
      "No results found for your query.\n"
     ]
    }
   ],
   "source": [
    "import requests\n",
    "from bs4 import BeautifulSoup\n",
    "\n",
    "# Function to scrape website content\n",
    "def scrape_website(session, url):\n",
    "    try:\n",
    "        response = session.get(url, timeout=10)  # Request website with a timeout\n",
    "        response.raise_for_status()  # Raise an exception for HTTP errors\n",
    "        soup = BeautifulSoup(response.text, 'html.parser')  # Parse HTML content\n",
    "        text_content = soup.get_text(separator=' ', strip=True)  # Extract text\n",
    "        return text_content\n",
    "    except requests.exceptions.SSLError as ssl_err:\n",
    "        print(f\"SSL error occurred: {ssl_err}\")\n",
    "    except requests.exceptions.RequestException as req_err:\n",
    "        print(f\"Request error occurred: {req_err}\")\n",
    "    except Exception as e:\n",
    "        print(f\"An error occurred: {e}\")\n",
    "    return None  # Return None if there was an error\n",
    "\n",
    "# Function to search for the query in the scraped data\n",
    "def answer_query(query, scraped_data):\n",
    "    results = []\n",
    "    query = query.lower()  # Convert query to lowercase for case-insensitive comparison\n",
    "    for url, content in scraped_data.items():\n",
    "        if query in content.lower():  # Check if the query is in the content\n",
    "            results.append((url, content))  # Add matching URL and content to results\n",
    "    return results\n",
    "\n",
    "# Example usage\n",
    "urls = [\n",
    "    \"https://www.washington.edu/\",\n",
    "    \"https://www.stanford.edu/\",\n",
    "    \"https://und.edu/\"\n",
    "]\n",
    "\n",
    "# Create a session and scrape data from the URLs\n",
    "with requests.Session() as session:\n",
    "    scraped_data = {}\n",
    "    for url in urls:\n",
    "        content = scrape_website(session, url)  # Scrape the website content\n",
    "        if content:\n",
    "            print(f\"Successfully scraped content from {url}\")\n",
    "            scraped_data[url] = content\n",
    "\n",
    "    # Continuously ask for user input and search\n",
    "    while True:\n",
    "        # User query input\n",
    "        user_query = input(\"Enter your query (or type 'exit' to quit): \")\n",
    "        \n",
    "        # Exit condition\n",
    "        if user_query.lower() == 'exit':\n",
    "            print(\"Exiting the program.\")\n",
    "            break\n",
    "        \n",
    "        # Find matching results\n",
    "        results = answer_query(user_query, scraped_data)\n",
    "\n",
    "        if results:\n",
    "            print(\"\\nResults found:\")\n",
    "            for url, content in results:\n",
    "                print(f\"\\nFrom {url}:\\n{content[:1000]}...\")  # Display the first 200 characters\n",
    "        else:\n",
    "            print(\"No results found for your query.\")\n"
   ]
  },
  {
   "cell_type": "code",
   "execution_count": null,
   "id": "9118ee53-657d-438b-9a04-28660b384e04",
   "metadata": {},
   "outputs": [],
   "source": []
  }
 ],
 "metadata": {
  "kernelspec": {
   "display_name": "Python 3 (ipykernel)",
   "language": "python",
   "name": "python3"
  },
  "language_info": {
   "codemirror_mode": {
    "name": "ipython",
    "version": 3
   },
   "file_extension": ".py",
   "mimetype": "text/x-python",
   "name": "python",
   "nbconvert_exporter": "python",
   "pygments_lexer": "ipython3",
   "version": "3.12.2"
  }
 },
 "nbformat": 4,
 "nbformat_minor": 5
}
